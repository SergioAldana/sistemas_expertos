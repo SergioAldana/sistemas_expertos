{
 "cells": [
  {
   "cell_type": "markdown",
   "metadata": {
    "id": "qafZOVSlHVrL"
   },
   "source": [
    "# Generador de descuentos\n",
    "\n",
    "## Objetivos\n",
    "\n",
    "* Incentivar nuevas compras del cliente en el establecimiento\n",
    "\n",
    "* Fomentar el consumo de otros productos\n",
    "\n",
    "* Fomentar el consumo de productos con más margen de beneficio\n",
    "\n",
    "\n",
    "## Entradas y Salidas\n",
    "\n",
    "* **Entrada:** Lista de artículos que ha comprado el consumidor\n",
    "* **Salida:** Lista de cupones descuento que imprimir junto al recibo de compra"
   ]
  },
  {
   "cell_type": "code",
   "execution_count": 88,
   "metadata": {
    "id": "E9S759ABJdUu"
   },
   "outputs": [],
   "source": [
    "from experta import *\n",
    "import re"
   ]
  },
  {
   "cell_type": "markdown",
   "metadata": {
    "id": "YK1nFgSYKGnB"
   },
   "source": [
    "## Hechos\n",
    "\n",
    "Definiremos a continuación los hechos que manejará el sistema."
   ]
  },
  {
   "cell_type": "code",
   "execution_count": 89,
   "metadata": {
    "id": "XF7YKX2mJlEy"
   },
   "outputs": [],
   "source": [
    "class Producto(Fact):\n",
    "    \"\"\"\n",
    "    Producto que ha comprado un cliente.\n",
    "\n",
    "    >>> Producto(nombre=\"pepsi\", tipo=\"refresco de cola\", cantidad=1)\n",
    "\n",
    "    \"\"\"\n",
    "    pass\n",
    "\n",
    "class Cupon(Fact):\n",
    "    \"\"\"\n",
    "    Cupón a generar para la próxima compra del cliente.\n",
    "\n",
    "    >>> Cupon(tipo=\"2x1\", producto=\"pepsi\")\n",
    "    \n",
    "    \"\"\"\n",
    "    pass\n"
   ]
  },
  {
   "cell_type": "code",
   "execution_count": 90,
   "metadata": {
    "id": "1U44sNZoKM3n"
   },
   "outputs": [],
   "source": [
    "class Promo(Fact):\n",
    "    \"\"\"\n",
    "    Promoción vigente en el comercio.\n",
    "\n",
    "    >>> Promo(tipo=\"2x1\", **depende_de_la_promo)\n",
    "\n",
    "    \"\"\"\n",
    "    pass\n",
    "\n",
    "class Beneficio(Fact):\n",
    "    \"\"\"\n",
    "    Define los beneficios que obtiene el comercio por cada producto.\n",
    "\n",
    "    >>> Beneficio(nombre=\"pepsi\", tipo=\"refresco de cola\", ganancias=0.2)\n",
    "\n",
    "    \"\"\"\n",
    "    pass"
   ]
  },
  {
   "cell_type": "markdown",
   "metadata": {},
   "source": [
    "## Hechos (funcionalidad(es))"
   ]
  },
  {
   "cell_type": "code",
   "execution_count": 91,
   "metadata": {},
   "outputs": [],
   "source": [
    "class TarjetaP(Fact):\n",
    "    \"\"\"\n",
    "    En esta clase se almacenarán los puntos del cliente para poder ser redimidos\n",
    "\n",
    "    >>> TarjetaP(documento = \"1000134735\", nombre = \"Íngrid Mejía\", puntos_tarjeta=500)\n",
    "\n",
    "    \"\"\"\n",
    "    pass"
   ]
  },
  {
   "cell_type": "code",
   "execution_count": 92,
   "metadata": {},
   "outputs": [],
   "source": [
    "class Puntos(Fact):\n",
    "    \"\"\"\n",
    "    Algunos productos tendrán asociados puntos que podrán ser redimidos más adelante.\n",
    "\n",
    "    >>> Puntos(producto = \"Camisetas para Hombre - GEF\", puntos_redimibles = 300)\n",
    "\n",
    "    \"\"\"\n",
    "    pass"
   ]
  },
  {
   "cell_type": "markdown",
   "metadata": {
    "id": "nn_RKM-FKRbo"
   },
   "source": [
    "## Objetivo 1\n",
    "### Incentivar nuevas compras del cliente en el establecimiento\n",
    "Para esto no hay nada mejor que las típicas promociones **2x1**, **3x2**, etc.\n",
    "\n",
    "#### Implementación"
   ]
  },
  {
   "cell_type": "code",
   "execution_count": 93,
   "metadata": {
    "id": "tmzGx5RcKQ5D"
   },
   "outputs": [],
   "source": [
    "class OfertasNxM(KnowledgeEngine):\n",
    "    @DefFacts()\n",
    "    def carga_promociones_nxm(self):\n",
    "        \"\"\"\n",
    "        Hechos iniciales.\n",
    "        \n",
    "        Genera las promociones vigentes\n",
    "        \"\"\"\n",
    "        yield Promo(tipo=\"2x1\", producto=\"Dodot\")\n",
    "        yield Promo(tipo=\"2x1\", producto=\"Leche Pascual\")\n",
    "        yield Promo(tipo=\"3x2\", producto=\"Pilas AAA\")\n",
    "    \n",
    "    @Rule(Promo(tipo=MATCH.t & P(lambda t: re.match(r\"\\d+x\\d+\", t)),\n",
    "                producto=MATCH.p),\n",
    "          Producto(nombre=MATCH.p))\n",
    "    def oferta_nxm(self, t, p):\n",
    "        \"\"\"\n",
    "        Sabemos que el cliente volverá para aprovechar\n",
    "        la promoción, ya que hoy ha comprado el producto.\n",
    "        \"\"\"\n",
    "        self.declare(Cupon(tipo=t, producto=p))"
   ]
  },
  {
   "cell_type": "markdown",
   "metadata": {},
   "source": [
    "## Objetivo 1 (funcionalidad(es))"
   ]
  },
  {
   "cell_type": "code",
   "execution_count": 94,
   "metadata": {},
   "outputs": [],
   "source": [
    "class ProcesoPuntos(KnowledgeEngine):\n",
    "    @DefFacts()\n",
    "    def carga_tarjetas(self):\n",
    "        \"\"\"\"\n",
    "        Hechos iniciales.\n",
    "        \n",
    "        Genera las tarjetas de los clientes que decidieron probar esta funcionalidad\n",
    "        \"\"\"\n",
    "        yield TarjetaP(documento = \"1000134735\", nombre = \"Íngrid Mejía\", puntos_tarjeta = 500)\n",
    "        yield TarjetaP(documento = \"1000134736\", nombre = \"Luis Córdoba\", puntos_tarjeta = 1000)\n",
    "        yield TarjetaP(documento = \"1000134737\", nombre = \"Angela Garzon\", puntos_tarjeta = 750)\n",
    "\n",
    "        \n",
    "    @DefFacts()\n",
    "    def carga_productos_asociados(self):\n",
    "        \"\"\"\n",
    "        Hechos iniciales.\n",
    "        \n",
    "        Genera y asocia los puntos a los productos asignados\n",
    "        \"\"\"\n",
    "        yield Puntos(producto = \"Camisetas para Hombre - GEF\", puntos_redimibles = 300)\n",
    "        yield Puntos(producto = \"Camiseta Ms Mujer GEF 720478\", puntos_redimibles = 250)\n",
    "        yield Puntos(producto = \"Tennis Nike Air Zoom Pegasus 39\", puntos_redimibles = 500)\n",
    "    \n",
    "    \"\"\"    \n",
    "    Compara los documentos y los puntos en ellos\n",
    "    \"\"\"\n",
    "    @Rule(\n",
    "        TarjetaP(documento = MATCH.documento, puntos_tarjeta = MATCH.puntos_tarjeta),\n",
    "        Puntos(producto = MATCH.producto, puntos_redimibles = MATCH.puntos_redimibles)\n",
    "        \n",
    "    )\n",
    "    def asociacion_puntos(self, puntos_tarjeta, puntos_redimibles):\n",
    "        \"\"\"  \n",
    "        Suma los puntos de la tarjeta del cliente y los con los puntos que da cada producto\n",
    "\n",
    "        \"\"\"\n",
    "        self.declare(TarjetaP(puntos_tarjeta = puntos_tarjeta + puntos_redimibles))\n",
    "        \n",
    "        "
   ]
  },
  {
   "cell_type": "markdown",
   "metadata": {
    "id": "nshJbw7hKWgh"
   },
   "source": [
    "#### Pruebas\n",
    "Utilizaremos la función `watch` para ver qué está haciendo el motor durante la ejecución."
   ]
  },
  {
   "cell_type": "code",
   "execution_count": 95,
   "metadata": {
    "id": "tW3ryaCoKZ4q"
   },
   "outputs": [],
   "source": [
    "watch('RULES', 'FACTS')"
   ]
  },
  {
   "cell_type": "code",
   "execution_count": 124,
   "metadata": {
    "id": "5pi3hP4gKctH"
   },
   "outputs": [
    {
     "name": "stderr",
     "output_type": "stream",
     "text": [
      "INFO:experta.watchers.FACTS: ==> <f-0>: InitialFact()\n",
      "INFO:experta.watchers.FACTS: ==> <f-1>: Promo(tipo='2x1', producto='Dodot')\n",
      "INFO:experta.watchers.FACTS: ==> <f-2>: Promo(tipo='2x1', producto='Leche Pascual')\n",
      "INFO:experta.watchers.FACTS: ==> <f-3>: Promo(tipo='3x2', producto='Pilas AAA')\n",
      "INFO:experta.watchers.FACTS: ==> <f-0>: InitialFact()\n",
      "INFO:experta.watchers.FACTS: ==> <f-1>: Puntos(producto='Camisetas para Hombre - GEF', puntos_redimibles=300)\n",
      "INFO:experta.watchers.FACTS: ==> <f-2>: Puntos(producto='Camiseta Ms Mujer GEF 720478', puntos_redimibles=250)\n",
      "INFO:experta.watchers.FACTS: ==> <f-3>: TarjetaP(documento='1000134735', nombre='Íngrid Mejía', puntos_tarjeta=500)\n",
      "INFO:experta.watchers.FACTS: ==> <f-4>: TarjetaP(documento='1000134736', nombre='Luis Córdoba', puntos_tarjeta=1000)\n"
     ]
    }
   ],
   "source": [
    "nxm = OfertasNxM()\n",
    "nxm.reset()\n",
    "\n",
    "ptn = ProcesoPuntos()\n",
    "ptn.reset()"
   ]
  },
  {
   "cell_type": "code",
   "execution_count": 126,
   "metadata": {
    "colab": {
     "base_uri": "https://localhost:8080/"
    },
    "id": "jz0qSAfsKi3q",
    "outputId": "ee70afd0-2106-4854-ef33-f82b3cf4f0a1"
   },
   "outputs": [
    {
     "name": "stderr",
     "output_type": "stream",
     "text": [
      "INFO:experta.watchers.FACTS: ==> <f-5>: Producto(nombre='Camisetas para Hombre - GEF', precio=48500)\n"
     ]
    },
    {
     "data": {
      "text/plain": [
       "Producto(nombre='Camisetas para Hombre - GEF', precio=48500)"
      ]
     },
     "execution_count": 126,
     "metadata": {},
     "output_type": "execute_result"
    }
   ],
   "source": [
    "nxm.declare(Producto(nombre=\"Dodot\",precio=1000))\n",
    "ptn.declare(Producto(nombre = \"Camisetas para Hombre - GEF\", precio = 48500))\n"
   ]
  },
  {
   "cell_type": "code",
   "execution_count": 98,
   "metadata": {
    "colab": {
     "base_uri": "https://localhost:8080/"
    },
    "id": "8VTcR0i4Kk0Q",
    "outputId": "8e909a12-2093-4b3b-8556-e988cc4c4122"
   },
   "outputs": [
    {
     "name": "stderr",
     "output_type": "stream",
     "text": [
      "INFO:experta.watchers.FACTS: ==> <f-5>: Producto(nombre='Agua Mineral')\n"
     ]
    },
    {
     "data": {
      "text/plain": [
       "Producto(nombre='Agua Mineral')"
      ]
     },
     "execution_count": 98,
     "metadata": {},
     "output_type": "execute_result"
    }
   ],
   "source": [
    "nxm.declare(Producto(nombre=\"Agua Mineral\"))"
   ]
  },
  {
   "cell_type": "code",
   "execution_count": 99,
   "metadata": {
    "colab": {
     "base_uri": "https://localhost:8080/"
    },
    "id": "PxQK_VPYKmhC",
    "outputId": "576c2cb9-364b-496a-f6be-c4d8899e3816"
   },
   "outputs": [
    {
     "name": "stderr",
     "output_type": "stream",
     "text": [
      "INFO:experta.watchers.FACTS: ==> <f-6>: Producto(nombre='Pilas AAA')\n"
     ]
    },
    {
     "data": {
      "text/plain": [
       "Producto(nombre='Pilas AAA')"
      ]
     },
     "execution_count": 99,
     "metadata": {},
     "output_type": "execute_result"
    }
   ],
   "source": [
    "nxm.declare(Producto(nombre=\"Pilas AAA\"))"
   ]
  },
  {
   "cell_type": "code",
   "execution_count": 127,
   "metadata": {
    "id": "T9QGX-stKsCO"
   },
   "outputs": [
    {
     "name": "stderr",
     "output_type": "stream",
     "text": [
      "INFO:experta.watchers.RULES:FIRE 1 oferta_nxm: <f-4>, <f-1>\n",
      "INFO:experta.watchers.FACTS: ==> <f-5>: Cupon(tipo='2x1', producto='Dodot')\n",
      "INFO:experta.watchers.RULES:FIRE 1 asociacion_puntos: <f-4>, <f-2>\n",
      "INFO:experta.watchers.FACTS: ==> <f-6>: TarjetaP(puntos_tarjeta=1250)\n",
      "INFO:experta.watchers.RULES:FIRE 2 asociacion_puntos: <f-4>, <f-1>\n",
      "INFO:experta.watchers.FACTS: ==> <f-7>: TarjetaP(puntos_tarjeta=1300)\n",
      "INFO:experta.watchers.RULES:FIRE 3 asociacion_puntos: <f-2>, <f-3>\n",
      "INFO:experta.watchers.FACTS: ==> <f-8>: TarjetaP(puntos_tarjeta=750)\n",
      "INFO:experta.watchers.RULES:FIRE 4 asociacion_puntos: <f-1>, <f-3>\n",
      "INFO:experta.watchers.FACTS: ==> <f-9>: TarjetaP(puntos_tarjeta=800)\n"
     ]
    }
   ],
   "source": [
    "nxm.run()\n",
    "ptn.run()"
   ]
  },
  {
   "cell_type": "markdown",
   "metadata": {
    "id": "TbTzA9q2KyUK"
   },
   "source": [
    "## Objetivo 2\n",
    "### Fomentar el consumo de otros productos\n",
    "\n",
    "Para lograr este objetivo generaremos cupones con packs descuento. Ejemplo:\n",
    "\n",
    "* Si compras una fregona y una mopa a la vez, tienes un 25% de descuento en ambos productos\n",
    "\n",
    "#### Implementación"
   ]
  },
  {
   "cell_type": "code",
   "execution_count": 101,
   "metadata": {
    "id": "9-M5za3gKy7J"
   },
   "outputs": [],
   "source": [
    "class OfertasPACK(KnowledgeEngine):\n",
    "    @DefFacts()\n",
    "    def carga_promociones_pack(self):\n",
    "        \"\"\"Genera las promociones vigentes\"\"\"\n",
    "        yield Promo(tipo=\"PACK\", producto1=\"Fregona ACME\", producto2=\"Mopa ACME\", descuento=\"25%\")\n",
    "        yield Promo(tipo=\"PACK\", producto1=\"Pasta Gallo\", producto2=\"Tomate Frito\", descuento=\"10%\")\n",
    "\n",
    "    @Rule(Promo(tipo=\"PACK\", producto1=MATCH.p1, producto2=MATCH.p2, descuento=MATCH.d),\n",
    "          OR(\n",
    "              AND(\n",
    "                  NOT(Producto(nombre=MATCH.p1)),\n",
    "                  Producto(nombre=MATCH.p2)\n",
    "              ),\n",
    "              AND(\n",
    "                  Producto(nombre=MATCH.p1),\n",
    "                  NOT(Producto(nombre=MATCH.p2))\n",
    "              )\n",
    "          )\n",
    "    )\n",
    "    def pack(self, p1, p2, d):\n",
    "        \"\"\"\n",
    "        El cliente querrá comprar un producto adicional en su próxima visita.\n",
    "        \"\"\"\n",
    "        self.declare(Cupon(tipo=\"PACK\", producto1=p1, producto2=p2, descuento=d))"
   ]
  },
  {
   "cell_type": "markdown",
   "metadata": {
    "id": "oKzKuTwWK2E4"
   },
   "source": [
    "#### Pruebas"
   ]
  },
  {
   "cell_type": "code",
   "execution_count": 102,
   "metadata": {
    "id": "PSRoE-e5I5Kd"
   },
   "outputs": [],
   "source": [
    "pack = OfertasPACK()"
   ]
  },
  {
   "cell_type": "code",
   "execution_count": 103,
   "metadata": {
    "id": "XJu7ulUGI5Kd"
   },
   "outputs": [
    {
     "name": "stderr",
     "output_type": "stream",
     "text": [
      "INFO:experta.watchers.FACTS: ==> <f-0>: InitialFact()\n",
      "INFO:experta.watchers.FACTS: ==> <f-1>: Promo(tipo='PACK', producto1='Fregona ACME', producto2='Mopa ACME', descuento='25%')\n",
      "INFO:experta.watchers.FACTS: ==> <f-2>: Promo(tipo='PACK', producto1='Pasta Gallo', producto2='Tomate Frito', descuento='10%')\n"
     ]
    }
   ],
   "source": [
    "pack.reset()"
   ]
  },
  {
   "cell_type": "code",
   "execution_count": 104,
   "metadata": {
    "colab": {
     "base_uri": "https://localhost:8080/"
    },
    "id": "V9WGF6AlI5Kd",
    "outputId": "e397b91a-37d2-48db-b835-a0af9df4bb2f"
   },
   "outputs": [
    {
     "name": "stderr",
     "output_type": "stream",
     "text": [
      "INFO:experta.watchers.FACTS: ==> <f-3>: Producto(nombre='Tomate Frito')\n"
     ]
    },
    {
     "data": {
      "text/plain": [
       "Producto(nombre='Tomate Frito')"
      ]
     },
     "execution_count": 104,
     "metadata": {},
     "output_type": "execute_result"
    }
   ],
   "source": [
    "pack.declare(Producto(nombre=\"Tomate Frito\"))"
   ]
  },
  {
   "cell_type": "code",
   "execution_count": 105,
   "metadata": {
    "colab": {
     "base_uri": "https://localhost:8080/"
    },
    "id": "i4WVZ5L1I5Ke",
    "outputId": "81fd7396-ca9c-4c6d-c23b-29117a604bcd"
   },
   "outputs": [
    {
     "name": "stderr",
     "output_type": "stream",
     "text": [
      "INFO:experta.watchers.FACTS: ==> <f-4>: Producto(nombre='Fregona ACME')\n"
     ]
    },
    {
     "data": {
      "text/plain": [
       "Producto(nombre='Fregona ACME')"
      ]
     },
     "execution_count": 105,
     "metadata": {},
     "output_type": "execute_result"
    }
   ],
   "source": [
    "pack.declare(Producto(nombre=\"Fregona ACME\"))"
   ]
  },
  {
   "cell_type": "code",
   "execution_count": 106,
   "metadata": {
    "colab": {
     "base_uri": "https://localhost:8080/"
    },
    "id": "uLRMB9h5I5Ke",
    "outputId": "b31bc49b-1493-4886-ee50-d3d3ea0e405f"
   },
   "outputs": [
    {
     "name": "stderr",
     "output_type": "stream",
     "text": [
      "INFO:experta.watchers.RULES:FIRE 1 pack: <f-4>, <f-1>\n",
      "INFO:experta.watchers.FACTS: ==> <f-5>: Cupon(tipo='PACK', producto1='Fregona ACME', producto2='Mopa ACME', descuento='25%')\n",
      "INFO:experta.watchers.RULES:FIRE 2 pack: <f-3>, <f-2>\n",
      "INFO:experta.watchers.FACTS: ==> <f-6>: Cupon(tipo='PACK', producto1='Pasta Gallo', producto2='Tomate Frito', descuento='10%')\n"
     ]
    }
   ],
   "source": [
    "pack.run()"
   ]
  },
  {
   "cell_type": "code",
   "execution_count": null,
   "metadata": {
    "colab": {
     "background_save": true
    },
    "id": "kMUfc2NNK6uM"
   },
   "outputs": [],
   "source": []
  },
  {
   "cell_type": "markdown",
   "metadata": {
    "id": "R4QLos8EI5Kf"
   },
   "source": [
    "## Objetivo 3\n",
    "### Fomentar el consumo de productos con más margen de beneficio\n",
    "\n",
    "El truco para cumplir este objetivo es conocer qué beneficio se obtiene por cada producto, y si existe un producto del mismo **tipo** con un beneficio mayor, generar un cupón de descuento para ese producto que nos permita seguir ganando más.\n",
    "\n",
    "#### Implementación"
   ]
  },
  {
   "cell_type": "code",
   "execution_count": 107,
   "metadata": {
    "id": "fZKCILK-I5Kg"
   },
   "outputs": [],
   "source": [
    "class OfertasDescuento(KnowledgeEngine):\n",
    "    @DefFacts()\n",
    "    def carga_beneficios(self):\n",
    "        \"\"\"\n",
    "        Define las beneficios por producto.\n",
    "        \"\"\"\n",
    "        yield Beneficio(nombre=\"Mahou\", tipo=\"Cerveza\", ganancias=0.5)\n",
    "        yield Beneficio(nombre=\"Cerveza Hacendado\", tipo=\"Cerveza\", ganancias=0.9)\n",
    "\n",
    "        yield Beneficio(nombre=\"Pilas AAA Duracell\", tipo=\"Pilas AAA\", ganancias=1.5)\n",
    "        yield Beneficio(nombre=\"Pilas AAA Hacendado\", tipo=\"Pilas AAA\", ganancias=2)\n",
    "        \n",
    "    @Rule(Producto(nombre=MATCH.p1),\n",
    "          Beneficio(nombre=MATCH.p1, tipo=MATCH.t, ganancias=MATCH.g1),\n",
    "          Beneficio(nombre=MATCH.p2, tipo=MATCH.t, ganancias=MATCH.g2),\n",
    "          TEST(lambda g1, g2: g2 > g1)\n",
    "    )\n",
    "    def descuento_producto_con_mayor_beneficio(self, p2, g1, g2, **_):\n",
    "        \"\"\"\n",
    "        \"\"\"\n",
    "        diferencia_ganancia = g2 - g1\n",
    "        self.declare(Cupon(tipo=\"DESCUENTO\",\n",
    "                           producto=p2,\n",
    "                           cantidad=diferencia_ganancia / 2))"
   ]
  },
  {
   "cell_type": "markdown",
   "metadata": {
    "id": "RhL9RioDI5Kg"
   },
   "source": [
    "#### Pruebas"
   ]
  },
  {
   "cell_type": "code",
   "execution_count": 108,
   "metadata": {
    "id": "Gq3vud-cI5Kh"
   },
   "outputs": [],
   "source": [
    "descuento = OfertasDescuento()"
   ]
  },
  {
   "cell_type": "code",
   "execution_count": 109,
   "metadata": {
    "colab": {
     "base_uri": "https://localhost:8080/"
    },
    "id": "1UH9BdFyI5Kh",
    "outputId": "6e012626-91cf-4f32-916d-ba4bcb5ae6f2"
   },
   "outputs": [
    {
     "name": "stderr",
     "output_type": "stream",
     "text": [
      "INFO:experta.watchers.FACTS: ==> <f-0>: InitialFact()\n",
      "INFO:experta.watchers.FACTS: ==> <f-1>: Beneficio(nombre='Mahou', tipo='Cerveza', ganancias=0.5)\n",
      "INFO:experta.watchers.FACTS: ==> <f-2>: Beneficio(nombre='Cerveza Hacendado', tipo='Cerveza', ganancias=0.9)\n",
      "INFO:experta.watchers.FACTS: ==> <f-3>: Beneficio(nombre='Pilas AAA Duracell', tipo='Pilas AAA', ganancias=1.5)\n",
      "INFO:experta.watchers.FACTS: ==> <f-4>: Beneficio(nombre='Pilas AAA Hacendado', tipo='Pilas AAA', ganancias=2)\n"
     ]
    }
   ],
   "source": [
    "descuento.reset()"
   ]
  },
  {
   "cell_type": "code",
   "execution_count": 110,
   "metadata": {
    "colab": {
     "base_uri": "https://localhost:8080/"
    },
    "id": "otf8dzoSI5Kh",
    "outputId": "e0e88068-a07b-41f8-bab9-2e289c4863d4"
   },
   "outputs": [
    {
     "name": "stderr",
     "output_type": "stream",
     "text": [
      "INFO:experta.watchers.FACTS: ==> <f-5>: Producto(nombre='Mahou')\n"
     ]
    },
    {
     "data": {
      "text/plain": [
       "Producto(nombre='Mahou')"
      ]
     },
     "execution_count": 110,
     "metadata": {},
     "output_type": "execute_result"
    }
   ],
   "source": [
    "descuento.declare(Producto(nombre=\"Mahou\"))"
   ]
  },
  {
   "cell_type": "code",
   "execution_count": 111,
   "metadata": {
    "colab": {
     "base_uri": "https://localhost:8080/"
    },
    "id": "FPzY7ZmII5Ki",
    "outputId": "aa359f0d-bf1f-42e9-f7b3-77511406d51e"
   },
   "outputs": [
    {
     "name": "stderr",
     "output_type": "stream",
     "text": [
      "INFO:experta.watchers.RULES:FIRE 1 descuento_producto_con_mayor_beneficio: <f-5>, <f-2>, <f-1>\n",
      "INFO:experta.watchers.FACTS: ==> <f-6>: Cupon(tipo='DESCUENTO', producto='Cerveza Hacendado', cantidad=0.2)\n"
     ]
    }
   ],
   "source": [
    "descuento.run()"
   ]
  },
  {
   "cell_type": "markdown",
   "metadata": {
    "id": "iitOEJEAI5Ki"
   },
   "source": [
    "**El sistema no debe generar cupón si se ha comprado el producto con mayor beneficio**"
   ]
  },
  {
   "cell_type": "code",
   "execution_count": 112,
   "metadata": {
    "colab": {
     "background_save": true,
     "base_uri": "https://localhost:8080/"
    },
    "id": "Fso1tn5QI5Ki",
    "outputId": "0c884267-8168-4679-8121-ccd84b37d09d"
   },
   "outputs": [
    {
     "name": "stderr",
     "output_type": "stream",
     "text": [
      "INFO:experta.watchers.FACTS: ==> <f-0>: InitialFact()\n",
      "INFO:experta.watchers.FACTS: ==> <f-1>: Beneficio(nombre='Mahou', tipo='Cerveza', ganancias=0.5)\n",
      "INFO:experta.watchers.FACTS: ==> <f-2>: Beneficio(nombre='Cerveza Hacendado', tipo='Cerveza', ganancias=0.9)\n",
      "INFO:experta.watchers.FACTS: ==> <f-3>: Beneficio(nombre='Pilas AAA Duracell', tipo='Pilas AAA', ganancias=1.5)\n",
      "INFO:experta.watchers.FACTS: ==> <f-4>: Beneficio(nombre='Pilas AAA Hacendado', tipo='Pilas AAA', ganancias=2)\n"
     ]
    }
   ],
   "source": [
    "descuento.reset()"
   ]
  },
  {
   "cell_type": "code",
   "execution_count": 113,
   "metadata": {
    "colab": {
     "background_save": true,
     "base_uri": "https://localhost:8080/"
    },
    "id": "gZrwEZvTI5Ki",
    "outputId": "212c0823-f184-422b-f828-b6abf5182204"
   },
   "outputs": [
    {
     "name": "stderr",
     "output_type": "stream",
     "text": [
      "INFO:experta.watchers.FACTS: ==> <f-5>: Producto(nombre='Pilas AAA Hacendado')\n"
     ]
    },
    {
     "data": {
      "text/plain": [
       "Producto(nombre='Pilas AAA Hacendado')"
      ]
     },
     "execution_count": 113,
     "metadata": {},
     "output_type": "execute_result"
    }
   ],
   "source": [
    "descuento.declare(Producto(nombre=\"Pilas AAA Hacendado\"))"
   ]
  },
  {
   "cell_type": "code",
   "execution_count": 114,
   "metadata": {
    "colab": {
     "background_save": true
    },
    "id": "Xg6TaJQUI5Kj"
   },
   "outputs": [],
   "source": [
    "descuento.run()"
   ]
  },
  {
   "cell_type": "code",
   "execution_count": null,
   "metadata": {
    "colab": {
     "base_uri": "https://localhost:8080/"
    },
    "id": "zIWpJaN5-pZw",
    "outputId": "cfab316d-702d-43e6-8d1a-089a2f82ea0e"
   },
   "outputs": [],
   "source": []
  },
  {
   "cell_type": "markdown",
   "metadata": {
    "id": "qgcep5n2I5Kj"
   },
   "source": [
    "## Juntándolo todo\n",
    "Gracias a **Python** podemos utilizar herencia múltiple para unir nuestros distintos motores en uno y darle un mejor interfaz de usuario."
   ]
  },
  {
   "cell_type": "code",
   "execution_count": 115,
   "metadata": {
    "id": "dC0Ai8UsI5Kj"
   },
   "outputs": [],
   "source": [
    "class GeneradorCupones(OfertasNxM, OfertasPACK, OfertasDescuento):\n",
    "    def generar_cupones(self, *nombre_productos):\n",
    "        # Reiniciamos el motor\n",
    "        self.reset()\n",
    "\n",
    "        # Declaramos los productos que ha comprado el cliente\n",
    "        for nombre in nombre_productos:\n",
    "            self.declare(Producto(nombre=nombre))\n",
    "\n",
    "        # Ejecutamos el motor\n",
    "        self.run()\n",
    "        \n",
    "        # Extraemos las promociones generadas\n",
    "        for fact in self.facts.values():\n",
    "            if isinstance(fact, Cupon):\n",
    "                yield fact"
   ]
  },
  {
   "cell_type": "code",
   "execution_count": 116,
   "metadata": {
    "id": "7a4gGEBkI5Kj"
   },
   "outputs": [],
   "source": [
    "ke = GeneradorCupones()"
   ]
  },
  {
   "cell_type": "code",
   "execution_count": 117,
   "metadata": {
    "colab": {
     "base_uri": "https://localhost:8080/"
    },
    "id": "EAg7G1SKI5Kk",
    "outputId": "5753962a-c22f-460f-e769-f5418f7c8a89"
   },
   "outputs": [
    {
     "name": "stderr",
     "output_type": "stream",
     "text": [
      "INFO:experta.watchers.FACTS: ==> <f-0>: InitialFact()\n",
      "INFO:experta.watchers.FACTS: ==> <f-1>: Beneficio(nombre='Mahou', tipo='Cerveza', ganancias=0.5)\n",
      "INFO:experta.watchers.FACTS: ==> <f-2>: Beneficio(nombre='Cerveza Hacendado', tipo='Cerveza', ganancias=0.9)\n",
      "INFO:experta.watchers.FACTS: ==> <f-3>: Beneficio(nombre='Pilas AAA Duracell', tipo='Pilas AAA', ganancias=1.5)\n",
      "INFO:experta.watchers.FACTS: ==> <f-4>: Beneficio(nombre='Pilas AAA Hacendado', tipo='Pilas AAA', ganancias=2)\n",
      "INFO:experta.watchers.FACTS: ==> <f-5>: Promo(tipo='2x1', producto='Dodot')\n",
      "INFO:experta.watchers.FACTS: ==> <f-6>: Promo(tipo='2x1', producto='Leche Pascual')\n",
      "INFO:experta.watchers.FACTS: ==> <f-7>: Promo(tipo='3x2', producto='Pilas AAA')\n",
      "INFO:experta.watchers.FACTS: ==> <f-8>: Promo(tipo='PACK', producto1='Fregona ACME', producto2='Mopa ACME', descuento='25%')\n",
      "INFO:experta.watchers.FACTS: ==> <f-9>: Promo(tipo='PACK', producto1='Pasta Gallo', producto2='Tomate Frito', descuento='10%')\n",
      "INFO:experta.watchers.FACTS: ==> <f-10>: Producto(nombre='Pilas AAA')\n",
      "INFO:experta.watchers.FACTS: ==> <f-11>: Producto(nombre='Mahou')\n",
      "INFO:experta.watchers.FACTS: ==> <f-12>: Producto(nombre='Tomate Frito')\n",
      "INFO:experta.watchers.RULES:FIRE 1 pack: <f-12>, <f-9>\n",
      "INFO:experta.watchers.FACTS: ==> <f-13>: Cupon(tipo='PACK', producto1='Pasta Gallo', producto2='Tomate Frito', descuento='10%')\n",
      "INFO:experta.watchers.RULES:FIRE 2 descuento_producto_con_mayor_beneficio: <f-11>, <f-2>, <f-1>\n",
      "INFO:experta.watchers.FACTS: ==> <f-14>: Cupon(tipo='DESCUENTO', producto='Cerveza Hacendado', cantidad=0.2)\n",
      "INFO:experta.watchers.RULES:FIRE 3 oferta_nxm: <f-7>, <f-10>\n",
      "INFO:experta.watchers.FACTS: ==> <f-15>: Cupon(tipo='3x2', producto='Pilas AAA')\n"
     ]
    },
    {
     "data": {
      "text/plain": [
       "[Cupon(tipo='PACK', producto1='Pasta Gallo', producto2='Tomate Frito', descuento='10%'),\n",
       " Cupon(tipo='DESCUENTO', producto='Cerveza Hacendado', cantidad=0.2),\n",
       " Cupon(tipo='3x2', producto='Pilas AAA')]"
      ]
     },
     "execution_count": 117,
     "metadata": {},
     "output_type": "execute_result"
    }
   ],
   "source": [
    "[cupon for cupon in ke.generar_cupones(\"Pilas AAA\", \"Mahou\", \"Tomate Frito\")]"
   ]
  },
  {
   "cell_type": "code",
   "execution_count": null,
   "metadata": {},
   "outputs": [],
   "source": []
  }
 ],
 "metadata": {
  "colab": {
   "collapsed_sections": [],
   "name": "1-SistemasExpertos.ipynb",
   "provenance": []
  },
  "kernelspec": {
   "display_name": "Python 3 (ipykernel)",
   "language": "python",
   "name": "python3"
  },
  "language_info": {
   "codemirror_mode": {
    "name": "ipython",
    "version": 3
   },
   "file_extension": ".py",
   "mimetype": "text/x-python",
   "name": "python",
   "nbconvert_exporter": "python",
   "pygments_lexer": "ipython3",
   "version": "3.9.12"
  }
 },
 "nbformat": 4,
 "nbformat_minor": 1
}
